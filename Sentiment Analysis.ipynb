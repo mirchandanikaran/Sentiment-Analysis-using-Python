{
 "cells": [
  {
   "cell_type": "code",
   "execution_count": 7,
   "id": "5c512d55",
   "metadata": {},
   "outputs": [],
   "source": [
    "#!pip install textblob"
   ]
  },
  {
   "cell_type": "markdown",
   "id": "0c6b7a83",
   "metadata": {},
   "source": [
    "Polarity: The emotion expressed in a sentence"
   ]
  },
  {
   "cell_type": "markdown",
   "id": "8f90ab9c",
   "metadata": {},
   "source": [
    "Subjectivity expresses some personal feelings, views or beliefs"
   ]
  },
  {
   "cell_type": "markdown",
   "id": "76004040",
   "metadata": {},
   "source": [
    "According to consumer behavior research, evaluations can be broadly categorized into two types:\n",
    "1. Rational evaluations\n",
    "2. Emotional evaluations.\n",
    "\n",
    "Rational evaluation: Such evaluations are from rational reasoning, tangible\n",
    "\n",
    "beliefs, and utilitarian attitudes. For example, the following sentences\n",
    "\n",
    "Express rational evaluations: “The voice of this phone is clear,” “This car is worth the price,” and “I am happy with this car.”\n",
    "\n",
    "Emotional evaluation: Such evaluations are from non-tangible and emotional responses to entities which go deep into people’s state of mind.\n",
    "\n",
    "For example, the following sentences express emotional evaluations: “I love iPhone,” “I am so angry with their service people” and “This is the best car ever built.”\n",
    "\n",
    "To make use of these two types of evaluations in practice, we can design 5 sentiment ratings, emotional negative (-2), rational negative (-1), neutral (0), rational positive (+1), and emotional positive (+2). In practice, neutral often means no opinion or sentiment expressed."
   ]
  },
  {
   "cell_type": "code",
   "execution_count": 1,
   "id": "22cd04e0",
   "metadata": {},
   "outputs": [],
   "source": [
    "from textblob import TextBlob"
   ]
  },
  {
   "cell_type": "code",
   "execution_count": 5,
   "id": "9fb9b659",
   "metadata": {},
   "outputs": [
    {
     "name": "stdout",
     "output_type": "stream",
     "text": [
      "Sentiment(polarity=1.0, subjectivity=0.3)\n",
      "Sentiment(polarity=0.9099999999999999, subjectivity=0.7800000000000001)\n"
     ]
    }
   ],
   "source": [
    "Feedback1 = \"The food at Radisson was the best\"\n",
    "Feedback2 = \"The food at Radisson was very good\"\n",
    "blob1 = TextBlob(Feedback1)\n",
    "blob2 = TextBlob(Feedback2)\n",
    "print(blob1.sentiment)\n",
    "print(blob2.sentiment)"
   ]
  },
  {
   "cell_type": "code",
   "execution_count": 15,
   "id": "b74dc8d8",
   "metadata": {},
   "outputs": [
    {
     "ename": "SyntaxError",
     "evalue": "invalid syntax (<ipython-input-15-758e874f34b2>, line 1)",
     "output_type": "error",
     "traceback": [
      "\u001b[1;36m  File \u001b[1;32m\"<ipython-input-15-758e874f34b2>\"\u001b[1;36m, line \u001b[1;32m1\u001b[0m\n\u001b[1;33m    feedback = \"\"***** Oh well.  my bad.  Still not gonna cross.\"\u001b[0m\n\u001b[1;37m                   ^\u001b[0m\n\u001b[1;31mSyntaxError\u001b[0m\u001b[1;31m:\u001b[0m invalid syntax\n"
     ]
    }
   ],
   "source": [
    "feedback = \"\""
   ]
  }
 ],
 "metadata": {
  "kernelspec": {
   "display_name": "Python 3",
   "language": "python",
   "name": "python3"
  },
  "language_info": {
   "codemirror_mode": {
    "name": "ipython",
    "version": 3
   },
   "file_extension": ".py",
   "mimetype": "text/x-python",
   "name": "python",
   "nbconvert_exporter": "python",
   "pygments_lexer": "ipython3",
   "version": "3.8.8"
  }
 },
 "nbformat": 4,
 "nbformat_minor": 5
}
